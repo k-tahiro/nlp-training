{
 "cells": [
  {
   "cell_type": "code",
   "execution_count": 1,
   "metadata": {},
   "outputs": [],
   "source": [
    "import os"
   ]
  },
  {
   "cell_type": "code",
   "execution_count": 2,
   "metadata": {},
   "outputs": [],
   "source": [
    "DATA_DIR = './text'\n",
    "labels = [\n",
    "    x\n",
    "    for x in os.listdir(DATA_DIR)\n",
    "    if os.path.isdir(os.path.join(DATA_DIR, x))\n",
    "]\n",
    "data_files = {\n",
    "    label: [\n",
    "        file\n",
    "        for file in os.listdir(os.path.join(DATA_DIR, label))\n",
    "        if file != 'LICENSE.txt'\n",
    "    ]\n",
    "    for label in labels\n",
    "}"
   ]
  },
  {
   "cell_type": "code",
   "execution_count": 3,
   "metadata": {},
   "outputs": [],
   "source": [
    "def read_file(file: str) -> dict:\n",
    "    with open(file) as f:\n",
    "        s = f.read()\n",
    "    l = s.split('\\n')\n",
    "    return {\n",
    "        'url': l[0],\n",
    "        'date': l[1],\n",
    "        'title': l[2],\n",
    "        'text': '\\n'.join(l[3:])\n",
    "    }"
   ]
  },
  {
   "cell_type": "code",
   "execution_count": 4,
   "metadata": {},
   "outputs": [],
   "source": [
    "from collections import ChainMap\n",
    "import pandas as pd"
   ]
  },
  {
   "cell_type": "code",
   "execution_count": 5,
   "metadata": {},
   "outputs": [],
   "source": [
    "data_list = [\n",
    "    ChainMap(\n",
    "        read_file(os.path.join(DATA_DIR, label, file)),\n",
    "        {\n",
    "            'id': os.path.splitext(file)[0],\n",
    "            'label': label\n",
    "        }\n",
    "    )\n",
    "    for label in labels\n",
    "    for file in data_files[label]\n",
    "]\n",
    "df = pd.DataFrame(data_list, columns=['id', 'label', 'url', 'date', 'title', 'text'])"
   ]
  },
  {
   "cell_type": "code",
   "execution_count": 6,
   "metadata": {},
   "outputs": [
    {
     "data": {
      "text/html": [
       "<div>\n",
       "<style>\n",
       "    .dataframe thead tr:only-child th {\n",
       "        text-align: right;\n",
       "    }\n",
       "\n",
       "    .dataframe thead th {\n",
       "        text-align: left;\n",
       "    }\n",
       "\n",
       "    .dataframe tbody tr th {\n",
       "        vertical-align: top;\n",
       "    }\n",
       "</style>\n",
       "<table border=\"1\" class=\"dataframe\">\n",
       "  <thead>\n",
       "    <tr style=\"text-align: right;\">\n",
       "      <th></th>\n",
       "      <th>id</th>\n",
       "      <th>label</th>\n",
       "      <th>url</th>\n",
       "      <th>date</th>\n",
       "      <th>title</th>\n",
       "      <th>text</th>\n",
       "    </tr>\n",
       "  </thead>\n",
       "  <tbody>\n",
       "    <tr>\n",
       "      <th>0</th>\n",
       "      <td>movie-enter-6352654</td>\n",
       "      <td>movie-enter</td>\n",
       "      <td>http://news.livedoor.com/article/detail/6352654/</td>\n",
       "      <td>2012-03-09T11:50:00+0900</td>\n",
       "      <td>「家政婦のミタ」の忽那汐里が声優に初挑戦、健気な妹を演じる</td>\n",
       "      <td>7月7日公開映画『グスコーブドリの伝記』にてメイン声優として、主役のブドリ役に小栗旬、ブド...</td>\n",
       "    </tr>\n",
       "    <tr>\n",
       "      <th>1</th>\n",
       "      <td>movie-enter-6462498</td>\n",
       "      <td>movie-enter</td>\n",
       "      <td>http://news.livedoor.com/article/detail/6462498/</td>\n",
       "      <td>2012-04-13T10:00:00+0900</td>\n",
       "      <td>【特別映像】凶暴な巨大生物が救世主を公開処刑</td>\n",
       "      <td>今から100年前の発表以来、数々の大作映画に影響を与えてきたといわれる伝説的小説「火星のプ...</td>\n",
       "    </tr>\n",
       "    <tr>\n",
       "      <th>2</th>\n",
       "      <td>movie-enter-6141525</td>\n",
       "      <td>movie-enter</td>\n",
       "      <td>http://news.livedoor.com/article/detail/6141525/</td>\n",
       "      <td>2011-12-23T13:00:00+0900</td>\n",
       "      <td>“日本のトップ総取替え”発言が現実になった＜2011年インタビューまとめ vol.3＞</td>\n",
       "      <td>ムービーエンターの今年行った俳優・女優の取材を一挙に紹介する「2011年インタビューまとめ...</td>\n",
       "    </tr>\n",
       "    <tr>\n",
       "      <th>3</th>\n",
       "      <td>movie-enter-5900294</td>\n",
       "      <td>movie-enter</td>\n",
       "      <td>http://news.livedoor.com/article/detail/5900294/</td>\n",
       "      <td>2011-09-30T05:00:00+0900</td>\n",
       "      <td>マツコ・デラックス、世界のセレブに対しても容赦なし</td>\n",
       "      <td>ある日突然、未来を予見するような奇妙なヴィジョンに翻弄され始める弁護士イーライの摩訶不思議...</td>\n",
       "    </tr>\n",
       "    <tr>\n",
       "      <th>4</th>\n",
       "      <td>movie-enter-6371410</td>\n",
       "      <td>movie-enter</td>\n",
       "      <td>http://news.livedoor.com/article/detail/6371410/</td>\n",
       "      <td>2012-03-15T13:36:00+0900</td>\n",
       "      <td>【いちおう妖ヶ劇場】第9話：生徒を洗脳するなんて、あんまりせんのうの巻</td>\n",
       "      <td>元お嬢様から貧乏に転落した勅使河原 栄華（てしがわら えいか）は、映画好きのネコ仙人ら妖怪...</td>\n",
       "    </tr>\n",
       "  </tbody>\n",
       "</table>\n",
       "</div>"
      ],
      "text/plain": [
       "                    id        label  \\\n",
       "0  movie-enter-6352654  movie-enter   \n",
       "1  movie-enter-6462498  movie-enter   \n",
       "2  movie-enter-6141525  movie-enter   \n",
       "3  movie-enter-5900294  movie-enter   \n",
       "4  movie-enter-6371410  movie-enter   \n",
       "\n",
       "                                                url                      date  \\\n",
       "0  http://news.livedoor.com/article/detail/6352654/  2012-03-09T11:50:00+0900   \n",
       "1  http://news.livedoor.com/article/detail/6462498/  2012-04-13T10:00:00+0900   \n",
       "2  http://news.livedoor.com/article/detail/6141525/  2011-12-23T13:00:00+0900   \n",
       "3  http://news.livedoor.com/article/detail/5900294/  2011-09-30T05:00:00+0900   \n",
       "4  http://news.livedoor.com/article/detail/6371410/  2012-03-15T13:36:00+0900   \n",
       "\n",
       "                                         title  \\\n",
       "0                「家政婦のミタ」の忽那汐里が声優に初挑戦、健気な妹を演じる   \n",
       "1                       【特別映像】凶暴な巨大生物が救世主を公開処刑   \n",
       "2  “日本のトップ総取替え”発言が現実になった＜2011年インタビューまとめ vol.3＞   \n",
       "3                    マツコ・デラックス、世界のセレブに対しても容赦なし   \n",
       "4          【いちおう妖ヶ劇場】第9話：生徒を洗脳するなんて、あんまりせんのうの巻   \n",
       "\n",
       "                                                text  \n",
       "0  　7月7日公開映画『グスコーブドリの伝記』にてメイン声優として、主役のブドリ役に小栗旬、ブド...  \n",
       "1  　今から100年前の発表以来、数々の大作映画に影響を与えてきたといわれる伝説的小説「火星のプ...  \n",
       "2  　ムービーエンターの今年行った俳優・女優の取材を一挙に紹介する「2011年インタビューまとめ...  \n",
       "3  　ある日突然、未来を予見するような奇妙なヴィジョンに翻弄され始める弁護士イーライの摩訶不思議...  \n",
       "4  　元お嬢様から貧乏に転落した勅使河原 栄華（てしがわら えいか）は、映画好きのネコ仙人ら妖怪...  "
      ]
     },
     "execution_count": 6,
     "metadata": {},
     "output_type": "execute_result"
    }
   ],
   "source": [
    "df.head()"
   ]
  },
  {
   "cell_type": "code",
   "execution_count": 7,
   "metadata": {},
   "outputs": [],
   "source": [
    "from sklearn.model_selection import StratifiedShuffleSplit"
   ]
  },
  {
   "cell_type": "code",
   "execution_count": 8,
   "metadata": {},
   "outputs": [],
   "source": [
    "sss = StratifiedShuffleSplit(1)\n",
    "teacher_index, test_index = next(sss.split(df, df.label))"
   ]
  },
  {
   "cell_type": "code",
   "execution_count": 9,
   "metadata": {},
   "outputs": [],
   "source": [
    "teacher_df = df.iloc[teacher_index]\n",
    "test_df = df.iloc[test_index]"
   ]
  },
  {
   "cell_type": "code",
   "execution_count": 10,
   "metadata": {},
   "outputs": [],
   "source": [
    "from normalize_neologd import normalize_neologd"
   ]
  },
  {
   "cell_type": "code",
   "execution_count": 11,
   "metadata": {},
   "outputs": [
    {
     "name": "stderr",
     "output_type": "stream",
     "text": [
      "/usr/local/lib/python3.5/dist-packages/ipykernel_launcher.py:1: SettingWithCopyWarning: \n",
      "A value is trying to be set on a copy of a slice from a DataFrame.\n",
      "Try using .loc[row_indexer,col_indexer] = value instead\n",
      "\n",
      "See the caveats in the documentation: http://pandas.pydata.org/pandas-docs/stable/indexing.html#indexing-view-versus-copy\n",
      "  \"\"\"Entry point for launching an IPython kernel.\n",
      "/usr/local/lib/python3.5/dist-packages/ipykernel_launcher.py:2: SettingWithCopyWarning: \n",
      "A value is trying to be set on a copy of a slice from a DataFrame.\n",
      "Try using .loc[row_indexer,col_indexer] = value instead\n",
      "\n",
      "See the caveats in the documentation: http://pandas.pydata.org/pandas-docs/stable/indexing.html#indexing-view-versus-copy\n",
      "  \n"
     ]
    }
   ],
   "source": [
    "teacher_df['normalized_title'] = teacher_df.apply(lambda x: normalize_neologd(x.title), axis=1)\n",
    "teacher_df['normalized_text'] = teacher_df.apply(lambda x: normalize_neologd(x.text), axis=1)"
   ]
  },
  {
   "cell_type": "code",
   "execution_count": 12,
   "metadata": {},
   "outputs": [
    {
     "data": {
      "text/html": [
       "<div>\n",
       "<style>\n",
       "    .dataframe thead tr:only-child th {\n",
       "        text-align: right;\n",
       "    }\n",
       "\n",
       "    .dataframe thead th {\n",
       "        text-align: left;\n",
       "    }\n",
       "\n",
       "    .dataframe tbody tr th {\n",
       "        vertical-align: top;\n",
       "    }\n",
       "</style>\n",
       "<table border=\"1\" class=\"dataframe\">\n",
       "  <thead>\n",
       "    <tr style=\"text-align: right;\">\n",
       "      <th></th>\n",
       "      <th>id</th>\n",
       "      <th>label</th>\n",
       "      <th>url</th>\n",
       "      <th>date</th>\n",
       "      <th>title</th>\n",
       "      <th>text</th>\n",
       "      <th>normalized_title</th>\n",
       "      <th>normalized_text</th>\n",
       "    </tr>\n",
       "  </thead>\n",
       "  <tbody>\n",
       "    <tr>\n",
       "      <th>6995</th>\n",
       "      <td>it-life-hack-6517094</td>\n",
       "      <td>it-life-hack</td>\n",
       "      <td>http://news.livedoor.com/article/detail/6517094/</td>\n",
       "      <td>2012-04-29T20:00:00+0900</td>\n",
       "      <td>こんこん！紺子には秘策があるんだからねっ【紺子にゅうす】</td>\n",
       "      <td>こんこん♪\\nふぉっくす紺子です☆\\n \\n今回の紺子にゅうすは\\nascii.jp（htt...</td>\n",
       "      <td>こんこん!紺子には秘策があるんだからねっ【紺子にゅうす】</td>\n",
       "      <td>こんこん♪\\nふぉっくす紺子です☆\\n \\n今回の紺子にゅうすは\\nascii.jp(htt...</td>\n",
       "    </tr>\n",
       "    <tr>\n",
       "      <th>5665</th>\n",
       "      <td>smax-6521195</td>\n",
       "      <td>smax</td>\n",
       "      <td>http://news.livedoor.com/article/detail/6521195/</td>\n",
       "      <td>2012-05-01T16:55:00+0900</td>\n",
       "      <td>ソフトバンク、5月7日からソフトバンク携帯電話取扱店でもらえる「ローマかぶれグッズ」プレゼン...</td>\n",
       "      <td>ステッカーとマグネット気に入るのはどっち？ \\n\\nソフトバンクモバイルは4月27日、ソフト...</td>\n",
       "      <td>ソフトバンク、5月7日からソフトバンク携帯電話取扱店でもらえる「ローマかぶれグッズ」プレゼン...</td>\n",
       "      <td>ステッカーとマグネット気に入るのはどっち?\\n\\nソフトバンクモバイルは4月27日、ソフトバ...</td>\n",
       "    </tr>\n",
       "    <tr>\n",
       "      <th>119</th>\n",
       "      <td>movie-enter-6398017</td>\n",
       "      <td>movie-enter</td>\n",
       "      <td>http://news.livedoor.com/article/detail/6398017/</td>\n",
       "      <td>2012-03-24T15:00:00+0900</td>\n",
       "      <td>死ぬまで戦え！　『スターシップ・トゥルーパーズ』昆虫と人類の壮絶な戦いが再び</td>\n",
       "      <td>SF小説の巨匠ロバート・A・ハインラインの傑作「宇宙の戦士」の映画化にして、クエンティン・...</td>\n",
       "      <td>死ぬまで戦え!『スターシップ・トゥルーパーズ』昆虫と人類の壮絶な戦いが再び</td>\n",
       "      <td>SF小説の巨匠ロバート・A・ハインラインの傑作「宇宙の戦士」の映画化にして、クエンティン・タ...</td>\n",
       "    </tr>\n",
       "    <tr>\n",
       "      <th>541</th>\n",
       "      <td>movie-enter-6399270</td>\n",
       "      <td>movie-enter</td>\n",
       "      <td>http://news.livedoor.com/article/detail/6399270/</td>\n",
       "      <td>2012-03-24T16:19:00+0900</td>\n",
       "      <td>DAIGO、33歳でウルトラマンにオファーされたのは想定外</td>\n",
       "      <td>ウルトラマンシリーズ最新作『ウルトラマンサーガ』が24日より全国公開となった。今回、ウルト...</td>\n",
       "      <td>DAIGO、33歳でウルトラマンにオファーされたのは想定外</td>\n",
       "      <td>ウルトラマンシリーズ最新作『ウルトラマンサーガ』が24日より全国公開となった。今回、ウルトラ...</td>\n",
       "    </tr>\n",
       "    <tr>\n",
       "      <th>297</th>\n",
       "      <td>movie-enter-6178173</td>\n",
       "      <td>movie-enter</td>\n",
       "      <td>http://news.livedoor.com/article/detail/6178173/</td>\n",
       "      <td>2012-01-10T15:45:00+0900</td>\n",
       "      <td>究極のヴァンパイア・ハンター、“戦う聖職者”の聖書に隠された武器</td>\n",
       "      <td>1892年に出版された、アイルランド人作家ブラム・ストーカーの小説「ドラキュラ」に登場する...</td>\n",
       "      <td>究極のヴァンパイア・ハンター、“戦う聖職者\"の聖書に隠された武器</td>\n",
       "      <td>1892年に出版された、アイルランド人作家ブラム・ストーカーの小説「ドラキュラ」に登場する男...</td>\n",
       "    </tr>\n",
       "  </tbody>\n",
       "</table>\n",
       "</div>"
      ],
      "text/plain": [
       "                        id         label  \\\n",
       "6995  it-life-hack-6517094  it-life-hack   \n",
       "5665          smax-6521195          smax   \n",
       "119    movie-enter-6398017   movie-enter   \n",
       "541    movie-enter-6399270   movie-enter   \n",
       "297    movie-enter-6178173   movie-enter   \n",
       "\n",
       "                                                   url  \\\n",
       "6995  http://news.livedoor.com/article/detail/6517094/   \n",
       "5665  http://news.livedoor.com/article/detail/6521195/   \n",
       "119   http://news.livedoor.com/article/detail/6398017/   \n",
       "541   http://news.livedoor.com/article/detail/6399270/   \n",
       "297   http://news.livedoor.com/article/detail/6178173/   \n",
       "\n",
       "                          date  \\\n",
       "6995  2012-04-29T20:00:00+0900   \n",
       "5665  2012-05-01T16:55:00+0900   \n",
       "119   2012-03-24T15:00:00+0900   \n",
       "541   2012-03-24T16:19:00+0900   \n",
       "297   2012-01-10T15:45:00+0900   \n",
       "\n",
       "                                                  title  \\\n",
       "6995                       こんこん！紺子には秘策があるんだからねっ【紺子にゅうす】   \n",
       "5665  ソフトバンク、5月7日からソフトバンク携帯電話取扱店でもらえる「ローマかぶれグッズ」プレゼン...   \n",
       "119              死ぬまで戦え！　『スターシップ・トゥルーパーズ』昆虫と人類の壮絶な戦いが再び   \n",
       "541                       DAIGO、33歳でウルトラマンにオファーされたのは想定外   \n",
       "297                    究極のヴァンパイア・ハンター、“戦う聖職者”の聖書に隠された武器   \n",
       "\n",
       "                                                   text  \\\n",
       "6995  こんこん♪\\nふぉっくす紺子です☆\\n \\n今回の紺子にゅうすは\\nascii.jp（htt...   \n",
       "5665  ステッカーとマグネット気に入るのはどっち？ \\n\\nソフトバンクモバイルは4月27日、ソフト...   \n",
       "119   　SF小説の巨匠ロバート・A・ハインラインの傑作「宇宙の戦士」の映画化にして、クエンティン・...   \n",
       "541   　ウルトラマンシリーズ最新作『ウルトラマンサーガ』が24日より全国公開となった。今回、ウルト...   \n",
       "297   　1892年に出版された、アイルランド人作家ブラム・ストーカーの小説「ドラキュラ」に登場する...   \n",
       "\n",
       "                                       normalized_title  \\\n",
       "6995                       こんこん!紺子には秘策があるんだからねっ【紺子にゅうす】   \n",
       "5665  ソフトバンク、5月7日からソフトバンク携帯電話取扱店でもらえる「ローマかぶれグッズ」プレゼン...   \n",
       "119               死ぬまで戦え!『スターシップ・トゥルーパーズ』昆虫と人類の壮絶な戦いが再び   \n",
       "541                       DAIGO、33歳でウルトラマンにオファーされたのは想定外   \n",
       "297                    究極のヴァンパイア・ハンター、“戦う聖職者\"の聖書に隠された武器   \n",
       "\n",
       "                                        normalized_text  \n",
       "6995  こんこん♪\\nふぉっくす紺子です☆\\n \\n今回の紺子にゅうすは\\nascii.jp(htt...  \n",
       "5665  ステッカーとマグネット気に入るのはどっち?\\n\\nソフトバンクモバイルは4月27日、ソフトバ...  \n",
       "119   SF小説の巨匠ロバート・A・ハインラインの傑作「宇宙の戦士」の映画化にして、クエンティン・タ...  \n",
       "541   ウルトラマンシリーズ最新作『ウルトラマンサーガ』が24日より全国公開となった。今回、ウルトラ...  \n",
       "297   1892年に出版された、アイルランド人作家ブラム・ストーカーの小説「ドラキュラ」に登場する男...  "
      ]
     },
     "execution_count": 12,
     "metadata": {},
     "output_type": "execute_result"
    }
   ],
   "source": [
    "teacher_df.head()"
   ]
  },
  {
   "cell_type": "code",
   "execution_count": 13,
   "metadata": {},
   "outputs": [],
   "source": [
    "from janome.tokenizer import Tokenizer"
   ]
  },
  {
   "cell_type": "code",
   "execution_count": 14,
   "metadata": {},
   "outputs": [],
   "source": [
    "tokenizer = Tokenizer(mmap=True)"
   ]
  },
  {
   "cell_type": "code",
   "execution_count": 17,
   "metadata": {},
   "outputs": [],
   "source": [
    "def select_pos(token: 'Token') -> bool:\n",
    "    return token.part_of_speech.split(',')[0] in ['名詞', '動詞', '形容詞']"
   ]
  },
  {
   "cell_type": "code",
   "execution_count": 19,
   "metadata": {},
   "outputs": [],
   "source": [
    "with open('./stop_words.txt') as f:\n",
    "    STOP_WORDS = f.readlines()\n",
    "def stop_words(token: 'Token') -> bool:\n",
    "    return token.surface in STOP_WORDS"
   ]
  },
  {
   "cell_type": "code",
   "execution_count": 20,
   "metadata": {},
   "outputs": [],
   "source": [
    "def select_token(tokens: list) -> list:\n",
    "    return [\n",
    "        token.surface\n",
    "        for token in tokens\n",
    "        if select_pos(token)\n",
    "        if not stop_words(token)\n",
    "    ]"
   ]
  },
  {
   "cell_type": "code",
   "execution_count": 23,
   "metadata": {},
   "outputs": [
    {
     "ename": "KeyboardInterrupt",
     "evalue": "",
     "output_type": "error",
     "traceback": [
      "\u001b[0;31m---------------------------------------------------------------------------\u001b[0m",
      "\u001b[0;31mKeyboardInterrupt\u001b[0m                         Traceback (most recent call last)",
      "\u001b[0;32m<ipython-input-23-c4f93db45bbf>\u001b[0m in \u001b[0;36m<module>\u001b[0;34m()\u001b[0m\n\u001b[0;32m----> 1\u001b[0;31m \u001b[0mteacher_df\u001b[0m\u001b[0;34m[\u001b[0m\u001b[0;34m'wakati'\u001b[0m\u001b[0;34m]\u001b[0m \u001b[0;34m=\u001b[0m \u001b[0mteacher_df\u001b[0m\u001b[0;34m.\u001b[0m\u001b[0mtext\u001b[0m\u001b[0;34m.\u001b[0m\u001b[0mapply\u001b[0m\u001b[0;34m(\u001b[0m\u001b[0;32mlambda\u001b[0m \u001b[0mx\u001b[0m\u001b[0;34m:\u001b[0m \u001b[0mselect_token\u001b[0m\u001b[0;34m(\u001b[0m\u001b[0mtokenizer\u001b[0m\u001b[0;34m.\u001b[0m\u001b[0mtokenize\u001b[0m\u001b[0;34m(\u001b[0m\u001b[0mx\u001b[0m\u001b[0;34m)\u001b[0m\u001b[0;34m)\u001b[0m\u001b[0;34m)\u001b[0m\u001b[0;34m\u001b[0m\u001b[0m\n\u001b[0m",
      "\u001b[0;32m/usr/local/lib/python3.5/dist-packages/pandas/core/series.py\u001b[0m in \u001b[0;36mapply\u001b[0;34m(self, func, convert_dtype, args, **kwds)\u001b[0m\n\u001b[1;32m   2353\u001b[0m             \u001b[0;32melse\u001b[0m\u001b[0;34m:\u001b[0m\u001b[0;34m\u001b[0m\u001b[0m\n\u001b[1;32m   2354\u001b[0m                 \u001b[0mvalues\u001b[0m \u001b[0;34m=\u001b[0m \u001b[0mself\u001b[0m\u001b[0;34m.\u001b[0m\u001b[0masobject\u001b[0m\u001b[0;34m\u001b[0m\u001b[0m\n\u001b[0;32m-> 2355\u001b[0;31m                 \u001b[0mmapped\u001b[0m \u001b[0;34m=\u001b[0m \u001b[0mlib\u001b[0m\u001b[0;34m.\u001b[0m\u001b[0mmap_infer\u001b[0m\u001b[0;34m(\u001b[0m\u001b[0mvalues\u001b[0m\u001b[0;34m,\u001b[0m \u001b[0mf\u001b[0m\u001b[0;34m,\u001b[0m \u001b[0mconvert\u001b[0m\u001b[0;34m=\u001b[0m\u001b[0mconvert_dtype\u001b[0m\u001b[0;34m)\u001b[0m\u001b[0;34m\u001b[0m\u001b[0m\n\u001b[0m\u001b[1;32m   2356\u001b[0m \u001b[0;34m\u001b[0m\u001b[0m\n\u001b[1;32m   2357\u001b[0m         \u001b[0;32mif\u001b[0m \u001b[0mlen\u001b[0m\u001b[0;34m(\u001b[0m\u001b[0mmapped\u001b[0m\u001b[0;34m)\u001b[0m \u001b[0;32mand\u001b[0m \u001b[0misinstance\u001b[0m\u001b[0;34m(\u001b[0m\u001b[0mmapped\u001b[0m\u001b[0;34m[\u001b[0m\u001b[0;36m0\u001b[0m\u001b[0;34m]\u001b[0m\u001b[0;34m,\u001b[0m \u001b[0mSeries\u001b[0m\u001b[0;34m)\u001b[0m\u001b[0;34m:\u001b[0m\u001b[0;34m\u001b[0m\u001b[0m\n",
      "\u001b[0;32mpandas/_libs/src/inference.pyx\u001b[0m in \u001b[0;36mpandas._libs.lib.map_infer (pandas/_libs/lib.c:66645)\u001b[0;34m()\u001b[0m\n",
      "\u001b[0;32m<ipython-input-23-c4f93db45bbf>\u001b[0m in \u001b[0;36m<lambda>\u001b[0;34m(x)\u001b[0m\n\u001b[0;32m----> 1\u001b[0;31m \u001b[0mteacher_df\u001b[0m\u001b[0;34m[\u001b[0m\u001b[0;34m'wakati'\u001b[0m\u001b[0;34m]\u001b[0m \u001b[0;34m=\u001b[0m \u001b[0mteacher_df\u001b[0m\u001b[0;34m.\u001b[0m\u001b[0mtext\u001b[0m\u001b[0;34m.\u001b[0m\u001b[0mapply\u001b[0m\u001b[0;34m(\u001b[0m\u001b[0;32mlambda\u001b[0m \u001b[0mx\u001b[0m\u001b[0;34m:\u001b[0m \u001b[0mselect_token\u001b[0m\u001b[0;34m(\u001b[0m\u001b[0mtokenizer\u001b[0m\u001b[0;34m.\u001b[0m\u001b[0mtokenize\u001b[0m\u001b[0;34m(\u001b[0m\u001b[0mx\u001b[0m\u001b[0;34m)\u001b[0m\u001b[0;34m)\u001b[0m\u001b[0;34m)\u001b[0m\u001b[0;34m\u001b[0m\u001b[0m\n\u001b[0m",
      "\u001b[0;32m/usr/local/lib/python3.5/dist-packages/janome/tokenizer.py\u001b[0m in \u001b[0;36mtokenize\u001b[0;34m(self, text, stream, wakati, baseform_unk)\u001b[0m\n\u001b[1;32m    192\u001b[0m             \u001b[0;32mreturn\u001b[0m \u001b[0mself\u001b[0m\u001b[0;34m.\u001b[0m\u001b[0m__tokenize_stream\u001b[0m\u001b[0;34m(\u001b[0m\u001b[0mtext\u001b[0m\u001b[0;34m,\u001b[0m \u001b[0mwakati\u001b[0m\u001b[0;34m,\u001b[0m \u001b[0mbaseform_unk\u001b[0m\u001b[0;34m)\u001b[0m\u001b[0;34m\u001b[0m\u001b[0m\n\u001b[1;32m    193\u001b[0m         \u001b[0;32melse\u001b[0m\u001b[0;34m:\u001b[0m\u001b[0;34m\u001b[0m\u001b[0m\n\u001b[0;32m--> 194\u001b[0;31m             \u001b[0;32mreturn\u001b[0m \u001b[0mlist\u001b[0m\u001b[0;34m(\u001b[0m\u001b[0mself\u001b[0m\u001b[0;34m.\u001b[0m\u001b[0m__tokenize_stream\u001b[0m\u001b[0;34m(\u001b[0m\u001b[0mtext\u001b[0m\u001b[0;34m,\u001b[0m \u001b[0mwakati\u001b[0m\u001b[0;34m,\u001b[0m \u001b[0mbaseform_unk\u001b[0m\u001b[0;34m)\u001b[0m\u001b[0;34m)\u001b[0m\u001b[0;34m\u001b[0m\u001b[0m\n\u001b[0m\u001b[1;32m    195\u001b[0m \u001b[0;34m\u001b[0m\u001b[0m\n\u001b[1;32m    196\u001b[0m     \u001b[0;32mdef\u001b[0m \u001b[0m__tokenize_stream\u001b[0m\u001b[0;34m(\u001b[0m\u001b[0mself\u001b[0m\u001b[0;34m,\u001b[0m \u001b[0mtext\u001b[0m\u001b[0;34m,\u001b[0m \u001b[0mwakati\u001b[0m\u001b[0;34m,\u001b[0m \u001b[0mbaseform_unk\u001b[0m\u001b[0;34m)\u001b[0m\u001b[0;34m:\u001b[0m\u001b[0;34m\u001b[0m\u001b[0m\n",
      "\u001b[0;32m/usr/local/lib/python3.5/dist-packages/janome/tokenizer.py\u001b[0m in \u001b[0;36m__tokenize_stream\u001b[0;34m(self, text, wakati, baseform_unk)\u001b[0m\n\u001b[1;32m    199\u001b[0m         \u001b[0mprocessed\u001b[0m \u001b[0;34m=\u001b[0m \u001b[0;36m0\u001b[0m\u001b[0;34m\u001b[0m\u001b[0m\n\u001b[1;32m    200\u001b[0m         \u001b[0;32mwhile\u001b[0m \u001b[0mprocessed\u001b[0m \u001b[0;34m<\u001b[0m \u001b[0mtext_length\u001b[0m\u001b[0;34m:\u001b[0m\u001b[0;34m\u001b[0m\u001b[0m\n\u001b[0;32m--> 201\u001b[0;31m             \u001b[0mtokens\u001b[0m\u001b[0;34m,\u001b[0m \u001b[0mpos\u001b[0m \u001b[0;34m=\u001b[0m \u001b[0mself\u001b[0m\u001b[0;34m.\u001b[0m\u001b[0m__tokenize_partial\u001b[0m\u001b[0;34m(\u001b[0m\u001b[0mtext\u001b[0m\u001b[0;34m[\u001b[0m\u001b[0mprocessed\u001b[0m\u001b[0;34m:\u001b[0m\u001b[0;34m]\u001b[0m\u001b[0;34m,\u001b[0m \u001b[0mwakati\u001b[0m\u001b[0;34m,\u001b[0m \u001b[0mbaseform_unk\u001b[0m\u001b[0;34m)\u001b[0m\u001b[0;34m\u001b[0m\u001b[0m\n\u001b[0m\u001b[1;32m    202\u001b[0m             \u001b[0;32mfor\u001b[0m \u001b[0mtoken\u001b[0m \u001b[0;32min\u001b[0m \u001b[0mtokens\u001b[0m\u001b[0;34m:\u001b[0m\u001b[0;34m\u001b[0m\u001b[0m\n\u001b[1;32m    203\u001b[0m                 \u001b[0;32myield\u001b[0m \u001b[0mtoken\u001b[0m\u001b[0;34m\u001b[0m\u001b[0m\n",
      "\u001b[0;32m/usr/local/lib/python3.5/dist-packages/janome/tokenizer.py\u001b[0m in \u001b[0;36m__tokenize_partial\u001b[0;34m(self, text, wakati, baseform_unk)\u001b[0m\n\u001b[1;32m    264\u001b[0m             \u001b[0;32mfor\u001b[0m \u001b[0mnode\u001b[0m \u001b[0;32min\u001b[0m \u001b[0mmin_cost_path\u001b[0m\u001b[0;34m[\u001b[0m\u001b[0;36m1\u001b[0m\u001b[0;34m:\u001b[0m\u001b[0;34m-\u001b[0m\u001b[0;36m1\u001b[0m\u001b[0;34m]\u001b[0m\u001b[0;34m:\u001b[0m\u001b[0;34m\u001b[0m\u001b[0m\n\u001b[1;32m    265\u001b[0m                 \u001b[0;32mif\u001b[0m \u001b[0mtype\u001b[0m\u001b[0;34m(\u001b[0m\u001b[0mnode\u001b[0m\u001b[0;34m)\u001b[0m \u001b[0;34m==\u001b[0m \u001b[0mSurfaceNode\u001b[0m \u001b[0;32mand\u001b[0m \u001b[0mnode\u001b[0m\u001b[0;34m.\u001b[0m\u001b[0mnode_type\u001b[0m \u001b[0;34m==\u001b[0m \u001b[0mNodeType\u001b[0m\u001b[0;34m.\u001b[0m\u001b[0mSYS_DICT\u001b[0m\u001b[0;34m:\u001b[0m\u001b[0;34m\u001b[0m\u001b[0m\n\u001b[0;32m--> 266\u001b[0;31m                     \u001b[0mtokens\u001b[0m\u001b[0;34m.\u001b[0m\u001b[0mappend\u001b[0m\u001b[0;34m(\u001b[0m\u001b[0mToken\u001b[0m\u001b[0;34m(\u001b[0m\u001b[0mnode\u001b[0m\u001b[0;34m,\u001b[0m \u001b[0mself\u001b[0m\u001b[0;34m.\u001b[0m\u001b[0msys_dic\u001b[0m\u001b[0;34m.\u001b[0m\u001b[0mlookup_extra\u001b[0m\u001b[0;34m(\u001b[0m\u001b[0mnode\u001b[0m\u001b[0;34m.\u001b[0m\u001b[0mnum\u001b[0m\u001b[0;34m)\u001b[0m\u001b[0;34m)\u001b[0m\u001b[0;34m)\u001b[0m\u001b[0;34m\u001b[0m\u001b[0m\n\u001b[0m\u001b[1;32m    267\u001b[0m                 \u001b[0;32melif\u001b[0m \u001b[0mtype\u001b[0m\u001b[0;34m(\u001b[0m\u001b[0mnode\u001b[0m\u001b[0;34m)\u001b[0m \u001b[0;34m==\u001b[0m \u001b[0mSurfaceNode\u001b[0m \u001b[0;32mand\u001b[0m \u001b[0mnode\u001b[0m\u001b[0;34m.\u001b[0m\u001b[0mnode_type\u001b[0m \u001b[0;34m==\u001b[0m \u001b[0mNodeType\u001b[0m\u001b[0;34m.\u001b[0m\u001b[0mUSER_DICT\u001b[0m\u001b[0;34m:\u001b[0m\u001b[0;34m\u001b[0m\u001b[0m\n\u001b[1;32m    268\u001b[0m                     \u001b[0mtokens\u001b[0m\u001b[0;34m.\u001b[0m\u001b[0mappend\u001b[0m\u001b[0;34m(\u001b[0m\u001b[0mToken\u001b[0m\u001b[0;34m(\u001b[0m\u001b[0mnode\u001b[0m\u001b[0;34m,\u001b[0m \u001b[0mself\u001b[0m\u001b[0;34m.\u001b[0m\u001b[0muser_dic\u001b[0m\u001b[0;34m.\u001b[0m\u001b[0mlookup_extra\u001b[0m\u001b[0;34m(\u001b[0m\u001b[0mnode\u001b[0m\u001b[0;34m.\u001b[0m\u001b[0mnum\u001b[0m\u001b[0;34m)\u001b[0m\u001b[0;34m)\u001b[0m\u001b[0;34m)\u001b[0m\u001b[0;34m\u001b[0m\u001b[0m\n",
      "\u001b[0;32m/usr/local/lib/python3.5/dist-packages/janome/dic.py\u001b[0m in \u001b[0;36mlookup_extra\u001b[0;34m(self, idx)\u001b[0m\n\u001b[1;32m    270\u001b[0m             \u001b[0mmm\u001b[0m\u001b[0;34m,\u001b[0m \u001b[0mmm_idx\u001b[0m \u001b[0;34m=\u001b[0m \u001b[0mself\u001b[0m\u001b[0;34m.\u001b[0m\u001b[0mentries_extra\u001b[0m\u001b[0;34m[\u001b[0m\u001b[0mbucket\u001b[0m\u001b[0;34m]\u001b[0m\u001b[0;34m\u001b[0m\u001b[0m\n\u001b[1;32m    271\u001b[0m             \u001b[0m_pos1s\u001b[0m \u001b[0;34m=\u001b[0m \u001b[0mmm_idx\u001b[0m\u001b[0;34m[\u001b[0m\u001b[0midx\u001b[0m\u001b[0;34m]\u001b[0m \u001b[0;34m+\u001b[0m \u001b[0;36m2\u001b[0m\u001b[0;34m\u001b[0m\u001b[0m\n\u001b[0;32m--> 272\u001b[0;31m             \u001b[0m_pos1e\u001b[0m \u001b[0;34m=\u001b[0m \u001b[0mmm\u001b[0m\u001b[0;34m.\u001b[0m\u001b[0mfind\u001b[0m\u001b[0;34m(\u001b[0m\u001b[0;34mb\"',u'\"\u001b[0m\u001b[0;34m,\u001b[0m \u001b[0m_pos1s\u001b[0m\u001b[0;34m)\u001b[0m \u001b[0;32mif\u001b[0m \u001b[0mPY3\u001b[0m \u001b[0;32melse\u001b[0m \u001b[0mmm\u001b[0m\u001b[0;34m.\u001b[0m\u001b[0mfind\u001b[0m\u001b[0;34m(\u001b[0m\u001b[0;34m\"',u'\"\u001b[0m\u001b[0;34m,\u001b[0m \u001b[0m_pos1s\u001b[0m\u001b[0;34m)\u001b[0m\u001b[0;34m\u001b[0m\u001b[0m\n\u001b[0m\u001b[1;32m    273\u001b[0m             \u001b[0m_pos2s\u001b[0m \u001b[0;34m=\u001b[0m \u001b[0m_pos1e\u001b[0m \u001b[0;34m+\u001b[0m \u001b[0;36m4\u001b[0m\u001b[0;34m\u001b[0m\u001b[0m\n\u001b[1;32m    274\u001b[0m             \u001b[0m_pos2e\u001b[0m \u001b[0;34m=\u001b[0m \u001b[0mmm\u001b[0m\u001b[0;34m.\u001b[0m\u001b[0mfind\u001b[0m\u001b[0;34m(\u001b[0m\u001b[0;34mb\"',u'\"\u001b[0m\u001b[0;34m,\u001b[0m \u001b[0m_pos2s\u001b[0m\u001b[0;34m)\u001b[0m \u001b[0;32mif\u001b[0m \u001b[0mPY3\u001b[0m \u001b[0;32melse\u001b[0m \u001b[0mmm\u001b[0m\u001b[0;34m.\u001b[0m\u001b[0mfind\u001b[0m\u001b[0;34m(\u001b[0m\u001b[0;34m\"',u'\"\u001b[0m\u001b[0;34m,\u001b[0m \u001b[0m_pos2s\u001b[0m\u001b[0;34m)\u001b[0m\u001b[0;34m\u001b[0m\u001b[0m\n",
      "\u001b[0;31mKeyboardInterrupt\u001b[0m: "
     ]
    }
   ],
   "source": [
    "teacher_df['wakati'] = teacher_df.text.apply(lambda x: select_token(tokenizer.tokenize(x)))"
   ]
  },
  {
   "cell_type": "code",
   "execution_count": null,
   "metadata": {},
   "outputs": [],
   "source": []
  },
  {
   "cell_type": "code",
   "execution_count": null,
   "metadata": {},
   "outputs": [],
   "source": []
  }
 ],
 "metadata": {
  "kernelspec": {
   "display_name": "Python 3",
   "language": "python",
   "name": "python3"
  },
  "language_info": {
   "codemirror_mode": {
    "name": "ipython",
    "version": 3
   },
   "file_extension": ".py",
   "mimetype": "text/x-python",
   "name": "python",
   "nbconvert_exporter": "python",
   "pygments_lexer": "ipython3",
   "version": "3.5.2"
  }
 },
 "nbformat": 4,
 "nbformat_minor": 2
}
