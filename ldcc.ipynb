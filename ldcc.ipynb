{
 "cells": [
  {
   "cell_type": "code",
   "execution_count": 1,
   "metadata": {},
   "outputs": [],
   "source": [
    "import os"
   ]
  },
  {
   "cell_type": "code",
   "execution_count": 2,
   "metadata": {},
   "outputs": [],
   "source": [
    "DATA_DIR = './text'\n",
    "labels = [\n",
    "    x\n",
    "    for x in os.listdir(DATA_DIR)\n",
    "    if os.path.isdir(os.path.join(DATA_DIR, x))\n",
    "]\n",
    "data_files = {\n",
    "    label: [\n",
    "        file\n",
    "        for file in os.listdir(os.path.join(DATA_DIR, label))\n",
    "        if file != 'LICENSE.txt'\n",
    "    ]\n",
    "    for label in labels\n",
    "}"
   ]
  },
  {
   "cell_type": "code",
   "execution_count": 3,
   "metadata": {},
   "outputs": [],
   "source": [
    "from collections import ChainMap\n",
    "import pandas as pd"
   ]
  },
  {
   "cell_type": "code",
   "execution_count": 4,
   "metadata": {},
   "outputs": [],
   "source": [
    "def read_file(file: str) -> dict:\n",
    "    with open(file) as f:\n",
    "        s = f.read()\n",
    "    l = s.split('\\n')\n",
    "    return {\n",
    "        'url': l[0],\n",
    "        'date': l[1],\n",
    "        'title': l[2],\n",
    "        'text': '\\n'.join(l[3:])\n",
    "    }"
   ]
  },
  {
   "cell_type": "code",
   "execution_count": 5,
   "metadata": {},
   "outputs": [],
   "source": [
    "data_list = [\n",
    "    ChainMap(\n",
    "        read_file(os.path.join(DATA_DIR, label, file)),\n",
    "        {\n",
    "            'id': os.path.splitext(file)[0],\n",
    "            'label': label\n",
    "        }\n",
    "    )\n",
    "    for label in labels\n",
    "    for file in data_files[label]\n",
    "]\n",
    "df = pd.DataFrame(data_list, columns=['id', 'label', 'url', 'date', 'title', 'text'])"
   ]
  },
  {
   "cell_type": "code",
   "execution_count": 6,
   "metadata": {},
   "outputs": [],
   "source": [
    "from normalize_neologd import normalize_neologd\n",
    "df['normalized_title'] = df.apply(lambda x: normalize_neologd(x.title), axis=1)\n",
    "df['normalized_text'] = df.apply(lambda x: normalize_neologd(x.text), axis=1)"
   ]
  },
  {
   "cell_type": "code",
   "execution_count": 7,
   "metadata": {},
   "outputs": [],
   "source": [
    "from janome.tokenizer import Tokenizer\n",
    "tokenizer = Tokenizer(mmap=True)"
   ]
  },
  {
   "cell_type": "code",
   "execution_count": 10,
   "metadata": {},
   "outputs": [],
   "source": [
    "POS_LIST = ['名詞,サ変活用', '名詞,一般', '名詞,固有名詞']\n",
    "def select_pos(token: 'Token') -> bool:\n",
    "    pos = token.part_of_speech\n",
    "    for pos_def in POS_LIST:\n",
    "        if pos.startswith(pos_def):\n",
    "            return True\n",
    "    return False\n",
    "\n",
    "def select_token(tokens: list) -> list:\n",
    "    return [\n",
    "        token.surface\n",
    "        for token in tokens\n",
    "        if select_pos(token)\n",
    "    ]\n",
    "\n",
    "def join_tokens(tokens: list) -> str:\n",
    "    return ' '.join(tokens)"
   ]
  },
  {
   "cell_type": "code",
   "execution_count": 11,
   "metadata": {},
   "outputs": [],
   "source": [
    "df['wakati'] = df.title.apply(lambda x: join_tokens(select_token(tokenizer.tokenize(x))))"
   ]
  },
  {
   "cell_type": "code",
   "execution_count": 12,
   "metadata": {},
   "outputs": [
    {
     "data": {
      "text/plain": [
       "0             家政婦のミタ 忽那汐里 声優 妹\n",
       "1             特別映像 生物 救世主 公開処刑\n",
       "2    日本 トップ 現実 2011年 まとめ vol.3\n",
       "3             マツコ・デラックス 世界 セレブ\n",
       "4              妖 ヶ 劇場 第9話 生徒 巻\n",
       "Name: wakati, dtype: object"
      ]
     },
     "execution_count": 12,
     "metadata": {},
     "output_type": "execute_result"
    }
   ],
   "source": [
    "df.wakati.head()"
   ]
  },
  {
   "cell_type": "code",
   "execution_count": 13,
   "metadata": {},
   "outputs": [],
   "source": [
    "from sklearn.model_selection import StratifiedShuffleSplit\n",
    "sss = StratifiedShuffleSplit(1)\n",
    "teacher_index, test_index = next(sss.split(df, df.label))\n",
    "teacher_df = df.iloc[teacher_index]\n",
    "test_df = df.iloc[test_index]\n",
    "\n",
    "sss = StratifiedShuffleSplit(1)\n",
    "train_index, valid_index = next(sss.split(teacher_df, teacher_df.label))\n",
    "train_df = df.iloc[train_index]\n",
    "valid_df = df.iloc[valid_index]"
   ]
  },
  {
   "cell_type": "code",
   "execution_count": 14,
   "metadata": {},
   "outputs": [],
   "source": [
    "from sklearn.feature_extraction.text import TfidfVectorizer\n",
    "\n",
    "with open('./stop_words.txt') as f:\n",
    "    STOP_WORDS = f.readlines()\n",
    "    \n",
    "tfidf_vectorizer = TfidfVectorizer()"
   ]
  },
  {
   "cell_type": "code",
   "execution_count": 15,
   "metadata": {},
   "outputs": [],
   "source": [
    "X_train = tfidf_vectorizer.fit_transform(train_df.wakati).toarray()\n",
    "y_train = train_df.label\n",
    "X_valid = tfidf_vectorizer.transform(valid_df.wakati).toarray()\n",
    "y_valid = valid_df.label"
   ]
  },
  {
   "cell_type": "code",
   "execution_count": 16,
   "metadata": {},
   "outputs": [],
   "source": [
    "from sklearn.linear_model import LogisticRegression\n",
    "\n",
    "model = LogisticRegression()\n",
    "model.fit(X_train, y_train)\n",
    "y_pred = model.predict(X_valid)"
   ]
  },
  {
   "cell_type": "code",
   "execution_count": 18,
   "metadata": {},
   "outputs": [
    {
     "data": {
      "text/plain": [
       "0.75414781297134237"
      ]
     },
     "execution_count": 18,
     "metadata": {},
     "output_type": "execute_result"
    }
   ],
   "source": [
    "from sklearn.metrics import accuracy_score\n",
    "\n",
    "accuracy_score(y_valid, y_pred)"
   ]
  },
  {
   "cell_type": "code",
   "execution_count": 20,
   "metadata": {},
   "outputs": [],
   "source": [
    "X_teacher = tfidf_vectorizer.fit_transform(teacher_df.wakati).toarray()\n",
    "y_teacher = teacher_df.label\n",
    "X_test = tfidf_vectorizer.transform(test_df.wakati).toarray()\n",
    "y_test = test_df.label"
   ]
  },
  {
   "cell_type": "code",
   "execution_count": 21,
   "metadata": {},
   "outputs": [],
   "source": [
    "model.fit(X_teacher, y_teacher)\n",
    "y_pred = model.predict(X_test)"
   ]
  },
  {
   "cell_type": "code",
   "execution_count": 22,
   "metadata": {},
   "outputs": [
    {
     "data": {
      "text/plain": [
       "0.74898236092265946"
      ]
     },
     "execution_count": 22,
     "metadata": {},
     "output_type": "execute_result"
    }
   ],
   "source": [
    "accuracy_score(y_test, y_pred)"
   ]
  }
 ],
 "metadata": {
  "kernelspec": {
   "display_name": "Python 3",
   "language": "python",
   "name": "python3"
  },
  "language_info": {
   "codemirror_mode": {
    "name": "ipython",
    "version": 3
   },
   "file_extension": ".py",
   "mimetype": "text/x-python",
   "name": "python",
   "nbconvert_exporter": "python",
   "pygments_lexer": "ipython3",
   "version": "3.5.2"
  }
 },
 "nbformat": 4,
 "nbformat_minor": 2
}
